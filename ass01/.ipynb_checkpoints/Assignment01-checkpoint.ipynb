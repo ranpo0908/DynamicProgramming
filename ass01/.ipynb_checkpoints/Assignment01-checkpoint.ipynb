{
 "cells": [
  {
   "cell_type": "markdown",
   "metadata": {},
   "source": [
    "### Assignment 1\n",
    "_Jiajie Lu_"
   ]
  },
  {
   "cell_type": "code",
   "execution_count": 1,
   "metadata": {},
   "outputs": [],
   "source": [
    "import numpy as np"
   ]
  },
  {
   "cell_type": "markdown",
   "metadata": {},
   "source": [
    "##### Question 1\n",
    "$$\n",
    "\\begin{aligned}\n",
    "\\max\\  &4z_1+5z_2+4z_3+8z_4+6z_5\\\\\n",
    "&4z_1+6z_2+5z_3+9z_4+7z_5\\le19\\\\\n",
    "&z_j\\ge0,j=1,...,5\n",
    "\\end{aligned}\n",
    "$$"
   ]
  },
  {
   "cell_type": "markdown",
   "metadata": {},
   "source": [
    "#### Solution:\n",
    "(a)  Formulate a dynamic programming problem for solving problem (1). Describe the state space,the action space,the feasible action mapping,and the dynamic programming equation."
   ]
  },
  {
   "cell_type": "markdown",
   "metadata": {},
   "source": [
    ">Denote<br>\n",
    "$a_1=4$,$a_2=6$,$a_3=5$,$a_4=9$,$a_5=7$,<br>\n",
    "$c_1=4$,$c_2=5$,$c_3=4$,$c_4=8$,$c_5=6$\n",
    "* Decision times $t=1,\\ldots,5$ - the number of items we took into consideration but not exactly in this order.\n",
    "* State space $\\mathcal{X}=\\{0,1,2,3,4,5,6,...,19\\}$ - the remained capapility of the bag at present\n",
    "* Control space $\\mathcal{U}=\\{0,1,2,3,\\ldots\\}$ - the number of items we can take\n",
    "* Feasible control mapping\n",
    "$$\n",
    "U_t(x_t)=\\left\\{\n",
    "\\begin{aligned}\n",
    "\\{0\\} && x_t<a_t\\\\\n",
    "\\{0,1,...,\\lfloor \\frac{x_t}{a_t} \\rfloor\\} && x_t\\ge a_t\n",
    "\\end{aligned}\n",
    "\\right.\n",
    "$$\n",
    "* Dynamic programming equation\n",
    "$$\n",
    "\\begin{eqnarray*}\n",
    "v_t(x)&=&\\max_{z\\in U_t(x)}\\{c_tz+v_{t+1}(x-a_tz)\\},t=1,2,3,4,5\\\\\n",
    "v_6(x)&=&0\n",
    "\\end{eqnarray*}\n",
    "$$"
   ]
  },
  {
   "cell_type": "markdown",
   "metadata": {},
   "source": [
    "(b) Use the dynamic programming equations to obtain the optimal solution"
   ]
  },
  {
   "cell_type": "markdown",
   "metadata": {},
   "source": [
    ">The maximum is 18 and the optimal is [3,0, 0, 0,1]<br>\n",
    "Following are the code to derive the result."
   ]
  },
  {
   "cell_type": "code",
   "execution_count": 2,
   "metadata": {
    "scrolled": true
   },
   "outputs": [
    {
     "name": "stdout",
     "output_type": "stream",
     "text": [
      "The maximum value is 18.0 and the optimal solution is [3, 0, 0, 0, 1]\n"
     ]
    }
   ],
   "source": [
    "def Knapsack(a, c, capa):\n",
    "    '''\n",
    "    Input:\n",
    "    a - weight list\n",
    "    c - value list\n",
    "    capa - capacity of the bag\n",
    "    \n",
    "    Output:\n",
    "    vf - optimized value function v(x) represented as mat[-1][-1]\n",
    "    p - optimal policy\n",
    "    '''\n",
    "    # length of steps\n",
    "    n = len(a)\n",
    "    # length of state space\n",
    "    m = capa+1\n",
    "    # table of value functions\n",
    "    mat = np.zeros((n,m))\n",
    "    # policy list\n",
    "    z = [0 for _ in range(n)]\n",
    "    \n",
    "    \n",
    "    # construct the value function matrix\n",
    "    for x in range(m):\n",
    "        mat[0][x] = max([c[0]*z for z in range(x//a[0]+1)])\n",
    "        \n",
    "    for x in range(m):\n",
    "        for t in range(1,n):\n",
    "            mat[t][x] = max([c[t]*z+mat[t-1][x-a[t]*z] for z in range(x//a[t]+1)])\n",
    "            \n",
    "            \n",
    "    # find the optimal path\n",
    "    row_idx, col_idx = n-1, capa\n",
    "    \n",
    "    while(row_idx>=0):\n",
    "        if row_idx == 0: z[row_idx] = int(mat[row_idx][col_idx]/a[row_idx])\n",
    "\n",
    "        if mat[row_idx][col_idx] == mat[row_idx-1][col_idx]:\n",
    "            row_idx -= 1\n",
    "            z[row_idx] += 0\n",
    "        else:\n",
    "            col_idx -= a[row_idx]\n",
    "            z[row_idx] += 1\n",
    "        \n",
    "    return mat[-1][-1], z\n",
    "\n",
    "# coeficients of the obj func, c's\n",
    "c = [4,5,4,8,6]\n",
    "# params of the constraints, a's\n",
    "a = [4,6,5,9,7]\n",
    "# xt\n",
    "b = 19\n",
    "\n",
    "vf, z = Knapsack(a,c,19)\n",
    "\n",
    "print(f\"The maximum value is {vf} and the optimal solution is {z}\")"
   ]
  },
  {
   "cell_type": "markdown",
   "metadata": {},
   "source": [
    "#####  Question 2"
   ]
  },
  {
   "cell_type": "markdown",
   "metadata": {},
   "source": [
    "#### Solution:\n",
    "(a) Formulate a dynamic programming problem to determine the optimal order in which to multiply the matrices. Clearly formulate the dynamic programming equation."
   ]
  },
  {
   "cell_type": "markdown",
   "metadata": {},
   "source": [
    ">First I'll solved in backward method.\n",
    "* Decision times $t=1,\\ldots,n$ - the length of the matrix chain that have to be multiplied.\n",
    "* State space $\\mathcal{X}=\\{x_{ij}=(k_i,\\ldots,k_j):x_{ij}\\in\\mathbb{Z}^{j-i+1},0\\le i< j\\le n\\}$ - the sizes of the matrix that have to be multiplied.\n",
    "* Control space $\\mathcal{U}=\\{1,\\ldots,n-1\\}$ - The control determines which matrices to multiply, for example,u=2 means multiply matrix number two with the next matrix (the third one).\n",
    "* Feasible control mapping $U(x_{ij})=\\{i+1,\\ldots,j-1\\}$\n",
    "* Cost function $c(x_{ij},u)=k_{i}\\times k_u\\times k_{j}$\n",
    "* Dynamic programming equation\n",
    "$$\n",
    "v_{t+1}(x^{ij})=\\min_{u\\in U(x_{ij})}\\{c(x_{ij},u)+v_{u-i}(x_{iu})+v_{j-u}(x_{uj})\\},t=1,\\ldots,n-1\\\\\n",
    "t+1=j-i\\\\\n",
    "v_1(x^1)=0, x^1=(k_i,k_{i+1}),i=0,\\ldots,n-1$$"
   ]
  },
  {
   "cell_type": "markdown",
   "metadata": {},
   "source": [
    ">Then I'll solve this in a forward way which is much simpler.\n",
    "* Decision times $t=1,\\ldots,n-1$\n",
    "* State space $\\mathcal{X}=\\{(k_0,k_1\\ldots,k_l):k_i\\in\\mathbb{Z}, 2\\le l\\le n\\}$ - the sizes of the matrix that have to be multiplied.\n",
    "* Control space $\\mathcal{U}=\\{1,\\ldots,n-1\\}$ - The control determines which matrices to multiply, for example,u=2 means multiply matrix number two with the next matrix (the third one).\n",
    "* Feasible control mapping $U(x)=\\{1,\\ldots,|x|-1\\}$ where $|x|$ represent the length of elements in $x$.\n",
    "* Cost function $c(x,u)=x_{u-1}\\times x_u\\times x_{u+1}$\n",
    "* Dynamics $x^{t+1}=\\{k_0,k_1,\\ldots,k_{u-1},k_{u+1},\\ldots,k_l\\}$ if $x^t=\\{k_0,k_1,\\ldots,k_l\\}$\n",
    "* Dynamic programming equation\n",
    "$$\n",
    "v_{t+1}(x^{t+1})=\\min_{u\\in U(x^t)}\\{c(x^t,u)+v_t(x^t)\\},t=2,\\ldots,n-1\\\\\n",
    "v_1(x^1)=0\\\\\n",
    "x^1=(k_0,k_1,\\ldots,k_n)\n",
    "$$"
   ]
  },
  {
   "cell_type": "markdown",
   "metadata": {},
   "source": [
    "(b) Solve the problem numerically, when n = 4 and $(k_0,k_1,...,k_4)$ = $(10,30,70,2,100)$. "
   ]
  },
  {
   "cell_type": "markdown",
   "metadata": {},
   "source": [
    ">The best order is $(A_1(A_2A_3))A_4$<br>\n",
    "Following are the codes to derive the result. First I'll show the backward method."
   ]
  },
  {
   "cell_type": "code",
   "execution_count": 3,
   "metadata": {},
   "outputs": [
    {
     "name": "stdout",
     "output_type": "stream",
     "text": [
      "Least total calculation cost is 6800.0\n",
      "The order of multiplication is:\n",
      "Step 1: multiply at point(s) [2]\n",
      "Step 2: multiply at point(s) [1]\n",
      "Step 3: multiply at point(s) [3]\n"
     ]
    }
   ],
   "source": [
    "def MultyChain_Backward(k):\n",
    "    '''\n",
    "    Input:\n",
    "    k - list of dimensions\n",
    "    \n",
    "    Output:\n",
    "    vf - value function\n",
    "    path - order of matrix multiplication\n",
    "    '''\n",
    "    # decision time + 1\n",
    "    n = len(k)\n",
    "    # value function matrix\n",
    "    v = np.zeros((n, n))\n",
    "    # policy matrix\n",
    "    p = np.zeros_like(v) - 1000\n",
    "    # save order\n",
    "    opt = [[] for _ in range(n)]\n",
    "    \n",
    "    # fill in the table\n",
    "    for t in range(2, n):\n",
    "        for i in range(0,n-t):\n",
    "            vf = [k[i]*k[u]*k[i+t]+v[u-i][i]+v[i+t-u][u] for u in range(i+1, i+t)]\n",
    "            v[t][i] = min(vf)\n",
    "            p[t][i] = list(range(i+1,i+t))[np.argmin(vf)]\n",
    "            \n",
    "    # trace to find the optimal solution\n",
    "    def recurrent(start, end):\n",
    "        \n",
    "        if (end-start) == 1:\n",
    "            return 0\n",
    "        \n",
    "        u = int(p[end-start][start])\n",
    "        opt[end-start].append(u)\n",
    "        \n",
    "        return recurrent(start, u), recurrent(u,end)\n",
    "    \n",
    "    recurrent(0, n-1)\n",
    "            \n",
    "    return v[n-1][0], opt\n",
    "    \n",
    "k = [10,30,70,2,100]\n",
    "\n",
    "cost, opt = MultyChain_Backward(k)\n",
    "\n",
    "print(f\"Least total calculation cost is {cost}\")\n",
    "print(f\"The order of multiplication is:\")\n",
    "for i in range(2, len(k)):\n",
    "    print(f\"Step {i-1}: multiply at point(s) {opt[i]}\")"
   ]
  },
  {
   "cell_type": "markdown",
   "metadata": {},
   "source": [
    ">Here is the forward method."
   ]
  },
  {
   "cell_type": "code",
   "execution_count": 4,
   "metadata": {},
   "outputs": [
    {
     "name": "stdout",
     "output_type": "stream",
     "text": [
      "Least total calculation cost is 6800\n",
      "The order of multiplication is:\n",
      "Step 1: multiply at point(s) 2\n",
      "Step 2: multiply at point(s) 1\n",
      "Step 3: multiply at point(s) 3\n"
     ]
    }
   ],
   "source": [
    "def MultyChain_Forward(k):\n",
    "    '''\n",
    "    Input:\n",
    "    k - list of dimensions\n",
    "    \n",
    "    Output:\n",
    "    vf - value function\n",
    "    path - order of matrix multiplication\n",
    "    '''\n",
    "    # decision time = 1, ..., n-1\n",
    "    n = len(k) - 1\n",
    "    # state\n",
    "    x = k[:]\n",
    "    # value function list  indexed by 0, ..., n-1 \n",
    "    v = [0 for _ in range(n)]\n",
    "    # policy list indexed by 0, ..., n-1\n",
    "    p = [0 for _ in range(n)]\n",
    "    # interation step\n",
    "    for t in range(1, n):\n",
    "        # values of different controls\n",
    "        values = [x[u-1]*x[u]*x[u+1] + v[t-1] for u in range(1, len(x)-1)]\n",
    "        # min of values\n",
    "        v[t] = min(values)\n",
    "        # optimal control  +1 because the current control list is begin with 1\n",
    "        z = np.argmin(values) + 1\n",
    "        # find the index of the optimal control \n",
    "        p[t] = k.index(x[z])\n",
    "        # dynamics\n",
    "        x = x[:z] + x[z+1:]\n",
    "        \n",
    "    return v[-1], p[1:]\n",
    "\n",
    "k = [10,30,70,2,100]\n",
    "\n",
    "cost, opt = MultyChain_Forward(k)\n",
    "\n",
    "print(f\"Least total calculation cost is {cost}\")\n",
    "print(f\"The order of multiplication is:\")\n",
    "for i in range(len(opt)):\n",
    "    print(f\"Step {i+1}: multiply at point(s) {opt[i]}\")"
   ]
  },
  {
   "cell_type": "markdown",
   "metadata": {},
   "source": [
    "Multiply at point(s) $k$ represents multiply matrix $A_k$ and its previous combinations by $A_{k+1}$ and its previous combinations. Based on the optimal solution, we can derive the best order is \n",
    "$$\n",
    "(A_1(A_2A_3))A_4\n",
    "$$"
   ]
  },
  {
   "cell_type": "markdown",
   "metadata": {},
   "source": [
    "##### Question 3"
   ]
  },
  {
   "cell_type": "markdown",
   "metadata": {},
   "source": [
    "##### Solution:\n",
    ">I first convert the table into adjacent matrix. Then apply Dijkstra algorithm.<br>\n",
    "The shortest path is [1, 4, 5, 10] with length of 25.<br>\n",
    "Following are the codes to derive the result."
   ]
  },
  {
   "cell_type": "code",
   "execution_count": 5,
   "metadata": {},
   "outputs": [
    {
     "name": "stdout",
     "output_type": "stream",
     "text": [
      "[[ 1  1  1  1  2  4  8  2  4  4  6  6  7  8  3  9  3  5  7  9]\n",
      " [ 2  4  6  8  4  6  6  3  3  5  5  7  8  9  5  7 10 10 10 10]\n",
      " [ 4  7  8  9  7 12  6 11  5 10 16 15 11 12 10  9 16  8  4 14]]\n"
     ]
    }
   ],
   "source": [
    "table = np.array([[1,2,4], [1,4,7],[1,6,8],[1,8,9],[2,4,7],\n",
    "                            [4,6,12],[8,6,6],[2,3,11],[4,3,5],[4,5,10],\n",
    "                            [6,5,16],[6,7,15],[7,8,11],[8,9,12],[3,5,10],\n",
    "                            [9,7,9],[3,10,16],[5,10,8],[7,10,4],[9,10,14]\n",
    "                 ])\n",
    "print(table.T)"
   ]
  },
  {
   "cell_type": "code",
   "execution_count": 6,
   "metadata": {},
   "outputs": [],
   "source": [
    "def StructAdjMat(t):\n",
    "    # init adj mat, 1000 to present infinite\n",
    "    # diagnals are 0s\n",
    "    adjMat = np.zeros((10,10)) + 1000 - np.eye(10)*1000\n",
    "    \n",
    "    for a,b,w in t:\n",
    "        adjMat[a-1][b-1] = w\n",
    "        \n",
    "    return adjMat\n",
    "\n",
    "def Dijkstra(adjMat,origin=0):\n",
    "    Q = [i for i in range(10)]\n",
    "    C = []\n",
    "    dists = np.array([1000 for i in range(10)])\n",
    "    pathes = [[] for _ in range(10)]\n",
    "    source = 9\n",
    "    dists[source] = 0\n",
    "\n",
    "    while len(Q)!=0:\n",
    "        v = np.argmin(dists[Q])\n",
    "        node = Q[v]\n",
    "        pathes[node].append(node)\n",
    "        Q.remove(node)\n",
    "\n",
    "        for idx,value in enumerate(adjMat[:,node]):\n",
    "            alt = dists[node] + value\n",
    "\n",
    "            if alt < dists[idx]:\n",
    "                dists[idx] = alt\n",
    "                pathes[idx].extend(pathes[node])\n",
    "                \n",
    "    path = np.array(pathes[origin])+1\n",
    "    path = path.tolist()\n",
    "    path.reverse()\n",
    "                \n",
    "    return dists[origin], path"
   ]
  },
  {
   "cell_type": "code",
   "execution_count": 7,
   "metadata": {},
   "outputs": [
    {
     "name": "stdout",
     "output_type": "stream",
     "text": [
      "The shortest path is [1, 4, 5, 10] with length of 25.\n"
     ]
    }
   ],
   "source": [
    "d,p = Dijkstra(StructAdjMat(table))\n",
    "print(f\"The shortest path is {p} with length of {d}.\")"
   ]
  }
 ],
 "metadata": {
  "kernelspec": {
   "display_name": "Python 3",
   "language": "python",
   "name": "python3"
  },
  "language_info": {
   "codemirror_mode": {
    "name": "ipython",
    "version": 3
   },
   "file_extension": ".py",
   "mimetype": "text/x-python",
   "name": "python",
   "nbconvert_exporter": "python",
   "pygments_lexer": "ipython3",
   "version": "3.7.4"
  }
 },
 "nbformat": 4,
 "nbformat_minor": 2
}
