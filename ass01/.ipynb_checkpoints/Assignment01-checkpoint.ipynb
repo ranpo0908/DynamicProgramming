{
 "cells": [
  {
   "cell_type": "markdown",
   "metadata": {},
   "source": [
    "### Assignment 1\n",
    "_Jiajie Lu_"
   ]
  },
  {
   "cell_type": "code",
   "execution_count": 1,
   "metadata": {},
   "outputs": [],
   "source": [
    "import numpy as np"
   ]
  },
  {
   "cell_type": "markdown",
   "metadata": {},
   "source": [
    "##### Question 1\n",
    "$$\n",
    "\\begin{aligned}\n",
    "\\max\\  &4z_1+5z_2+4z_3+8z_4+6z_5\\\\\n",
    "&4z_1+6z_2+5z_3+9z_4+7z_5\\le19\\\\\n",
    "&z_j\\ge0,j=1,...,5\n",
    "\\end{aligned}\n",
    "$$"
   ]
  },
  {
   "cell_type": "markdown",
   "metadata": {},
   "source": [
    "#### Solution:\n",
    "(a)  Formulate a dynamic programming problem for solving problem (1). Describe the state space,the action space,the feasible action mapping,and the dynamic programming equation."
   ]
  },
  {
   "cell_type": "markdown",
   "metadata": {},
   "source": [
    ">Denote<br>\n",
    "$a_1=4$,$a_2=6$,$a_3=5$,$a_4=9$,$a_5=7$,<br>\n",
    "$c_1=4$,$c_2=5$,$c_3=4$,$c_4=8$,$c_5=6$\n",
    "* state space $\\mathcal{X}=\\{0,1,2,3,4,5,6,...,19\\}$\n",
    "* action space $\\mathcal{U}=\\{0,1,2,3,4\\}$\n",
    "* feasible action mapping\n",
    "$$\n",
    "U_t(x_t)=\\left\\{\n",
    "\\begin{aligned}\n",
    "\\{0\\} && x_t<a_t\\\\\n",
    "\\{0,1,...,\\lfloor \\frac{x_t}{a_t} \\rfloor\\} && x_t\\ge a_t\n",
    "\\end{aligned}\n",
    "\\right.\n",
    "$$\n",
    "* dynamic programming equation\n",
    "$$\n",
    "v_t(x_t)=\\max_{u\\in U_t(x_t)}\\{v_{t-1}(x_{t-1})+c_tu, v_{t-1}(v_{t-1}(x_{t-1})-a_tu)+c_tu\\},  t=2,3,4,5\\\\\n",
    "v_1(x_1)=\\max_{u\\in U_1(x_1)}\\{c_1u\\}\n",
    "$$"
   ]
  },
  {
   "cell_type": "markdown",
   "metadata": {},
   "source": [
    "(b) Use the dynamic programming equations to obtain the optimal solution"
   ]
  },
  {
   "cell_type": "markdown",
   "metadata": {},
   "source": [
    ">The maximum is 18 and the optimal is [3,0, 0, 0,1]<br>\n",
    "Following are the code to derive the result."
   ]
  },
  {
   "cell_type": "code",
   "execution_count": 2,
   "metadata": {
    "scrolled": true
   },
   "outputs": [],
   "source": [
    "def Knapsack(v, w, capa):\n",
    "    '''\n",
    "    Input:\n",
    "    v - value list\n",
    "    w - weight list\n",
    "    capa - capacity of the bag\n",
    "    \n",
    "    Output:\n",
    "    xx\n",
    "    '''\n",
    "    "
   ]
  },
  {
   "cell_type": "code",
   "execution_count": 3,
   "metadata": {},
   "outputs": [
    {
     "name": "stdout",
     "output_type": "stream",
     "text": [
      "The maximum is 18 and the optimal is [3, 0, 0, 0, 1]\n"
     ]
    }
   ],
   "source": [
    "# coeficients of the obj func, c's\n",
    "coefs = [4,5,4,8,6]\n",
    "# params of the constraints, a's\n",
    "consts = [4,6,5,9,7]\n",
    "# xt\n",
    "b = 19\n",
    "\n",
    "v,m = MultiKnapsack(coefs,consts,19)\n",
    "print(f'The maximum is {v} and the optimal is {m}')"
   ]
  },
  {
   "cell_type": "markdown",
   "metadata": {},
   "source": [
    "#####  Question 2"
   ]
  },
  {
   "cell_type": "markdown",
   "metadata": {},
   "source": [
    "#### Solution:\n",
    "(a) Formulate a dynamic programming problem to determine the optimal order in which to multiply the matrices. Clearly formulate the dynamic programming equation."
   ]
  },
  {
   "cell_type": "markdown",
   "metadata": {},
   "source": [
    ">Denote $k$ as the sequence containing all the dimensions of matrix.\n",
    "* state space: {1,2,3,4} length of chain\n",
    "* control space: {1,2,3}\n",
    "* dynamic programming equation\n",
    "$$\n",
    "v_t(x_t)=\\min_{u\\in U_t(x)}\\{v_{u-i}(x_{u-i})+v_{j-u}(x_{j-u})+k[i]\\times k[u]\\times k[j]\\}\\\\ t=2,3,4\\ ;i,j\\in\\{0,1,2,3,4\\}\\\\\n",
    "v_1(x_1)=0\n",
    "$$"
   ]
  },
  {
   "cell_type": "markdown",
   "metadata": {},
   "source": [
    "(b) Solve the problem numerically, when n = 4 and $(k_0,k_1,...,k_4)$ = $(10,30,70,2,100)$. "
   ]
  },
  {
   "cell_type": "markdown",
   "metadata": {},
   "source": [
    ">The best order is $(A_1(A_2A_3))A_4$<br>\n",
    "Following are the codes to derive the result."
   ]
  },
  {
   "cell_type": "code",
   "execution_count": 4,
   "metadata": {
    "scrolled": false
   },
   "outputs": [
    {
     "name": "stdout",
     "output_type": "stream",
     "text": [
      "The smallest amount of multiplication is 6800\n",
      "The best order of different lengthes of chain is:\n",
      "When length is 2, we should choose A2 to A2 and A3 to A3\n",
      "When length is 3, we should choose A1 to A1 and A2 to A3\n",
      "When length is 4, we should choose A1 to A3 and A4 to A4\n"
     ]
    }
   ],
   "source": [
    "# Matrix Ai has dimension p[i-1] x p[i] for i = 1..n \n",
    "def MatrixChainOrder(p, n): \n",
    "    m = [[0 for x in range(n)] for x in range(n)]\n",
    "    pathes = []\n",
    "\n",
    "    # cost is zero when multiplying one matrix. \n",
    "    for i in range(1, n): \n",
    "        m[i][i] = 0\n",
    "  \n",
    "    # L is chain length. \n",
    "    for L in range(2, n): \n",
    "        for i in range(1, n-L+1): \n",
    "            j = i+L-1\n",
    "            m[i][j] = 10000\n",
    "            for k in range(i, j): \n",
    "   \n",
    "                q = m[i][k] + m[k+1][j] + p[i-1]*p[k]*p[j] \n",
    "                if q < m[i][j]: \n",
    "                    m[i][j] = q\n",
    "                    pathes.append([L,i-1,k,j])\n",
    "  \n",
    "    return m[1][n-1],pathes\n",
    "        \n",
    "k = [10,30,70,2,100]; \n",
    "n = 4\n",
    "optimal, path = MatrixChainOrder(k, n+1)\n",
    "print(f\"The smallest amount of multiplication is {optimal}\")\n",
    "print(\"The best order of different lengthes of chain is:\")\n",
    "for L,i,k,j in path:\n",
    "    print(f\"When length is {L}, we should choose A{i+1} to A{k} and A{k+1} to A{j}\")"
   ]
  },
  {
   "cell_type": "markdown",
   "metadata": {},
   "source": [
    "Based on the best order of different length, we can derive the best order is \n",
    "$$\n",
    "(A_1(A_2A_3))A_4\n",
    "$$"
   ]
  },
  {
   "cell_type": "markdown",
   "metadata": {},
   "source": [
    "##### Question 3"
   ]
  },
  {
   "cell_type": "markdown",
   "metadata": {},
   "source": [
    "##### Solution:\n",
    ">I first convert the table into adjacent matrix. Then apply Dijkstra algorithm.<br>\n",
    "The shortest path is [1, 4, 5, 10] with length of 25.<br>\n",
    "Following are the codes to derive the result."
   ]
  },
  {
   "cell_type": "code",
   "execution_count": 5,
   "metadata": {},
   "outputs": [],
   "source": [
    "table = np.array([[1,2,4], [1,4,7],[1,6,8],[1,8,9],[2,4,7],\n",
    "                            [4,6,12],[8,6,6],[2,3,11],[4,3,5],[4,5,10],\n",
    "                            [6,5,16],[6,7,15],[7,8,11],[8,9,12],[3,5,10],\n",
    "                            [9,7,9],[3,10,16],[5,10,8],[7,10,4],[9,10,14]\n",
    "                 ])"
   ]
  },
  {
   "cell_type": "code",
   "execution_count": 6,
   "metadata": {},
   "outputs": [],
   "source": [
    "def StructAdjMat(t):\n",
    "    # init adj mat, 1000 to present infinite\n",
    "    # diagnals are 0s\n",
    "    adjMat = np.zeros((10,10)) + 1000 - np.eye(10)*1000\n",
    "    \n",
    "    for a,b,w in t:\n",
    "        adjMat[a-1][b-1] = w\n",
    "        #adjMat[b-1][a-1] = w\n",
    "        \n",
    "    return adjMat\n",
    "\n",
    "def Dijkstra(adjMat,origin=0):\n",
    "    Q = [i for i in range(10)]\n",
    "    C = []\n",
    "    dists = np.array([1000 for i in range(10)])\n",
    "    pathes = [[] for _ in range(10)]\n",
    "    source = 9\n",
    "    dists[source] = 0\n",
    "\n",
    "    while len(Q)!=0:\n",
    "        v = np.argmin(dists[Q])\n",
    "        node = Q[v]\n",
    "        pathes[node].append(node)\n",
    "        Q.remove(node)\n",
    "\n",
    "        for idx,value in enumerate(adjMat[:,node]):\n",
    "            alt = dists[node] + value\n",
    "\n",
    "            if alt < dists[idx]:\n",
    "                dists[idx] = alt\n",
    "                pathes[idx].extend(pathes[node])\n",
    "                \n",
    "    path = np.array(pathes[origin])+1\n",
    "    path = path.tolist()\n",
    "    path.reverse()\n",
    "                \n",
    "    return dists[origin], path"
   ]
  },
  {
   "cell_type": "code",
   "execution_count": 7,
   "metadata": {},
   "outputs": [
    {
     "name": "stdout",
     "output_type": "stream",
     "text": [
      "The shortest path is [1, 4, 5, 10] with length of 25.\n"
     ]
    }
   ],
   "source": [
    "d,p = Dijkstra(StructAdjMat(table))\n",
    "print(f\"The shortest path is {p} with length of {d}.\")"
   ]
  }
 ],
 "metadata": {
  "kernelspec": {
   "display_name": "Python 3",
   "language": "python",
   "name": "python3"
  },
  "language_info": {
   "codemirror_mode": {
    "name": "ipython",
    "version": 3
   },
   "file_extension": ".py",
   "mimetype": "text/x-python",
   "name": "python",
   "nbconvert_exporter": "python",
   "pygments_lexer": "ipython3",
   "version": "3.7.4"
  }
 },
 "nbformat": 4,
 "nbformat_minor": 2
}
