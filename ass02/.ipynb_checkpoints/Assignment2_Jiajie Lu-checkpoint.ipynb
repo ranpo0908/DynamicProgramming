{
 "cells": [
  {
   "cell_type": "markdown",
   "metadata": {},
   "source": [
    "## Assignment 2\n",
    "_Jiajie Lu_"
   ]
  },
  {
   "cell_type": "code",
   "execution_count": 7,
   "metadata": {},
   "outputs": [],
   "source": [
    "import numpy as np\n",
    "import pandas as pd\n",
    "import matplotlib.pyplot as plt"
   ]
  },
  {
   "cell_type": "markdown",
   "metadata": {},
   "source": [
    "### Problem 1\n",
    ">Assume that you play a chess match with a friend.  If you play timid your probability of making a draw is p=0.9, the probability to win is 0 and the probability to lose is 0.1.  If you play bold you either win with probability q=0.45, or you lose. Each win brings one point to the score of the winner. The match consists of 5 games. If the score is a tie after the fifth game, then a“sudden death”rule is adopted; that is, whoever wins the next game is a winner of the match; if it is a draw, then the game is repeated with the same rule\n",
    "<br><br>\n",
    "Formulate a Markov decision problem to determine the optimal strategy of your play (to maximizethe probability of winning the match) and solve it. Clearly describe the state space, control space,transition probabilities, and the reward function."
   ]
  },
  {
   "cell_type": "markdown",
   "metadata": {},
   "source": [
    "**Solution**"
   ]
  },
  {
   "cell_type": "markdown",
   "metadata": {},
   "source": [
    "* state space : {-5,-4,-3,-2,-1,0,1,2,3,4,5} $x_t$=current advantages\n",
    "* control space : {0,1} where 0='timid', 1='bold'\n",
    "* transition probability:\n",
    "$$\n",
    "P(X_{t+1}=X_t|X_t,u=0)=0.9\\\\\n",
    "P(X_{t+1}=X_t-1|X_t,u=0)=0.1\\\\\n",
    "P(X_{t+1}=X_t-1|X_t,u=1)=0.55\\\\\n",
    "P(X_{t+1}=X_t+1|X_t,u=1)=0.45\\\\\n",
    "P(X_{t+1}=y|X_t,u_t)=0 , \\text{other }y\\in\\mathcal{X}\n",
    "$$\n",
    "* reward function\n",
    "$$r(x_t,u_t)=0$$\n",
    "* DPE\n",
    "$$\n",
    "\\begin{aligned}\n",
    "v_t(x)&=\\max\\{r(x,0)+v_{t+1}(x)P(x|x,0)+v_{t+1}(x-1)P(x-1|x,0),r(x,1)+v_{t+1}(x)P(x|x,1)+v_{t+1}(x+1)P(x+1|x,1)\\}\\\\\n",
    "v_t(x)&=\\max\\{v_{t+1}(x)\\times0.9+v_{t+1}(x-1)\\times0.1,v_{t+1}(x-1)\\times0.55+v_{t+1}(x+1)\\times0.45\\}\\\\\n",
    "v_N(x)&=\\left\\{\n",
    "\\begin{aligned}\n",
    "1&&x>0\\\\\n",
    "0.45&&x=0\\\\\n",
    "0&&x<0\n",
    "\\end{aligned}\n",
    "\\right.\n",
    ",N>=5\n",
    "\\end{aligned}\n",
    "$$"
   ]
  },
  {
   "cell_type": "markdown",
   "metadata": {},
   "source": [
    "When two players turn into sudden death, the best choice for me is undoubtedly to play \"bold\". So we just need to optimize the finite states in regular game."
   ]
  },
  {
   "cell_type": "code",
   "execution_count": 12,
   "metadata": {},
   "outputs": [
    {
     "name": "stdout",
     "output_type": "stream",
     "text": [
      "       0       1        2        3        4        5\n",
      "0   0.00  0.0000  0.00000  0.00000  0.00000  0.00000\n",
      "1   0.00  0.0000  0.00000  0.00000  0.00000  0.00000\n",
      "2   0.00  0.0000  0.00000  0.00000  0.00000  0.00000\n",
      "3   0.00  0.0000  0.09113  0.09113  0.00000  0.00000\n",
      "4   0.00  0.2025  0.20250  0.29160  0.28158  0.00000\n",
      "5   0.45  0.4500  0.53662  0.51435  0.54720  0.52616\n",
      "6   1.00  0.9450  0.89550  0.85961  0.82508  0.00000\n",
      "7   1.00  1.0000  0.99450  0.98460  0.00000  0.00000\n",
      "8   1.00  1.0000  1.00000  0.00000  0.00000  0.00000\n",
      "9   1.00  1.0000  0.00000  0.00000  0.00000  0.00000\n",
      "10  1.00  0.0000  0.00000  0.00000  0.00000  0.00000\n",
      "        0      1      2      3      4      5\n",
      "0     0.0    0.0    0.0    0.0    0.0    0.0\n",
      "1     0.0   99.0    0.0    0.0    0.0    0.0\n",
      "2     0.0   99.0   99.0    0.0    0.0    0.0\n",
      "3     0.0   99.0  100.0  100.0    0.0    0.0\n",
      "4     0.0  100.0  100.0  100.0  100.0    0.0\n",
      "5   100.0  100.0  100.0  100.0  100.0  100.0\n",
      "6     0.0  101.0   99.0   99.0   99.0    0.0\n",
      "7     0.0  101.0  101.0  101.0    0.0    0.0\n",
      "8     0.0  101.0  101.0    0.0    0.0    0.0\n",
      "9     0.0  101.0    0.0    0.0    0.0    0.0\n",
      "10    0.0    0.0    0.0    0.0    0.0    0.0\n"
     ]
    }
   ],
   "source": [
    "def v(x):\n",
    "    if x>0:\n",
    "        return 1\n",
    "    elif x==0:\n",
    "        return 0.45\n",
    "    else:\n",
    "        return 0\n",
    "    \n",
    "s_mat = np.zeros((11,6))\n",
    "policy = np.zeros((11,6))\n",
    "for x in range(11):\n",
    "    s_mat[x,0] = v(x-5)\n",
    "    \n",
    "for t in range(1,6):\n",
    "    for i in range(t,11-t):\n",
    "        c_v = [s_mat[i,t-1]*0.9+s_mat[i-1,t-1]*0.1,s_mat[i-1,t-1]*0.55+s_mat[i+1,t-1]*0.45]\n",
    "        s_mat[i,t] = round(np.max(c_v),5)\n",
    "        policy[i,t] = np.argmax(c_v) + 99\n",
    "        if i-5 > t/2:\n",
    "            policy[i,t] = 2 + 99\n",
    "            \n",
    "policy[5,0] = 1 + 99\n",
    "    \n",
    "print(pd.DataFrame(s_mat))\n",
    "print(pd.DataFrame(policy))"
   ]
  },
  {
   "cell_type": "markdown",
   "metadata": {},
   "source": [
    "### Problem 2\n",
    ">A software manufacturer can be in one of two states. In state 1 their software sells well, and in state 2, the product sells poorly.  While in state 1, the company can invest in development of upgraded version of the software, in which case the one-stage reward is 4 units, and the probability of degrading to state 2 is 0.2.  If no investment in new development occurs, then the reward is 6 units, but the probability of transition to state 2 is 0.5.  While in state 2, if the company invests in software development, then the reward is -2 units, but the probability of transition to state 1 is 0.7.Without special efforts to improve, the reward is 1 and the probability of upgrading to state 1 is 0.Formulate a dynamic programming problem to determine an optimal reserch and development policy. Solve the problem for a time horizon of 12 time intervals."
   ]
  },
  {
   "cell_type": "markdown",
   "metadata": {},
   "source": [
    "**Solution**\n",
    "* state space : {1,2}\n",
    "* control space : {0,1} where 0=\"not invest\" and 1=\"invest\"\n",
    "* transition probability;\n",
    "$$\n",
    "P(X_{t+1}=1|X_t=1,u=0)=0.5\\\\\n",
    "P(X_{t+1}=2|X_t=1,u=0)=0.5\\\\\n",
    "P(X_{t+1}=1|X_t=1,u=1)=0.8\\\\\n",
    "P(X_{t+1}=2|X_t=1,u=1)=0.2\\\\\n",
    "P(X_{t+1}=1|X_t=2,u=0)=0\\\\\n",
    "P(X_{t+1}=2|X_t=2,u=0)=1\\\\\n",
    "P(X_{t+1}=1|X_t=2,u=1)=0.7\\\\\n",
    "P(X_{t+1}=2|X_t=2,u=1)=0.3\n",
    "$$\n",
    "* reward function\n",
    "$$\n",
    "r(x_t,u_t)=\\left\\{\n",
    "\\begin{aligned}\n",
    "6&&x_t=1,u_t=0\\\\\n",
    "4&&x_t=1,u_t=1\\\\\n",
    "1&&x_t=2,u_t=0\\\\\n",
    "-2&&x_t=2,u_t=1\n",
    "\\end{aligned}\n",
    "\\right.\n",
    "$$\n",
    "* Dynamic programming equation\n",
    "$$\n",
    "v_t(x)=\\max_{u\\in U}\\{r(x,u)+E[v_{t+1}(x_{t+1})|x,u]\\},t=1,2,...,T\\\\\n",
    "v_t(x)=\\max_{u\\in \\{0,1\\}}\\{r(x,u)+P(1|x,u)v_{t+1}(1)+P(2|x,u)v_{t+1}(2)\\}\\\\\n",
    "v_{T}(x)=\\max_{u\\in U}\\{r(x,u)\\}\n",
    "$$"
   ]
  },
  {
   "cell_type": "code",
   "execution_count": 3,
   "metadata": {},
   "outputs": [
    {
     "name": "stdout",
     "output_type": "stream",
     "text": [
      "36.092592592600006\n",
      "[1, 1, 1, 1, 1, 1, 1, 1, 1, 1, 0, 0]\n"
     ]
    }
   ],
   "source": [
    "p_mat = np.zeros((3,3,2))\n",
    "p_mat[1,1,0] = 0.5\n",
    "p_mat[2,1,0] = 0.5\n",
    "p_mat[1,1,1] = 0.8\n",
    "p_mat[2,1,1] = 0.2\n",
    "p_mat[1,2,0] = 0\n",
    "p_mat[2,2,0] = 1\n",
    "p_mat[1,2,1] = 0.7\n",
    "p_mat[2,2,1] = 0.3\n",
    "\n",
    "v_mat = np.zeros((3,2))\n",
    "v_mat[1,0] = 6\n",
    "v_mat[1,1] = 4\n",
    "v_mat[2,0] = 1\n",
    "v_mat[2,1] = -2\n",
    "\n",
    "def value(x,v1,v2):\n",
    "    s = [v_mat[x,u]+v1*p_mat[1,x,u]+v2*p_mat[2,x,u] for u in [0,1]]\n",
    "    return np.max(s),np.argmax(s)\n",
    "\n",
    "path = [0 for _ in range(12)]\n",
    "\n",
    "for i in range(12,0,-1):\n",
    "    if i == 12:\n",
    "        v1,v2 = 6,1\n",
    "        cmax = np.max([v1,v2])\n",
    "    else:\n",
    "        t_v1, t_u1 = value(1,v1,v2)\n",
    "        t_v2, t_u2 = value(2,v1,v2)\n",
    "        \n",
    "        v = np.max([t_v1,t_v2])\n",
    "        if v>cmax:\n",
    "            cmax = v\n",
    "            \n",
    "            idx = np.argmax([t_v1,t_v2])\n",
    "            #print(int(idx))\n",
    "            path[i-1] = [t_u1,t_u2][int(idx)]\n",
    "            \n",
    "        v1,v2 = t_v1,t_v2\n",
    "        \n",
    "print(cmax)\n",
    "print(path)"
   ]
  },
  {
   "cell_type": "markdown",
   "metadata": {},
   "source": [
    "### Problem 3\n",
    ">Consider the equipment replacement problem discussed in class, with the following data:\n",
    "* operating cost per period $c_0+c_1x$,$x=0,1,2,...$;\n",
    "* revenue per period $R$;\n",
    "* replacement cost $K$;\n",
    "* salvage value $γKe^{−μx}$; \n",
    "where $c_0>0,c_1>0,c_2>0, 0<γ<1$, and $μ>0$. <br>\n",
    "Assume that the salvage value can be collected whenever the item is replaced. The probabilities of deterioration by $j$ steps in one period are given by the Poisson distribution\n",
    "$$\n",
    "p_j=\\frac{\\lambda^j}{j!}e^{-\\lambda}, \\lambda=1,2,...\n",
    "$$<br>  \n",
    "(3.1)Formulate the corresponding Markov decision problem. Clearly define the state space, action space, transition probabilities, and the reward function.<br>\n",
    "(3.2)  Solve the problem numerically for $c_0=1,c_1=1,R=5,K=10,γ=0.8,μ=0.2,λ=1$,and time horizon $T=20$.  To this end, argue that a constant value $\\bar{x}$ exists such that for all $x\\ge\\bar{x}$ replacement is always profitable.  Then you will know that the value function for all $x\\ge\\bar{x}$ is the same as at $\\bar{x}$. This will allow you have finite tables of the value function for each time $t$."
   ]
  },
  {
   "cell_type": "markdown",
   "metadata": {},
   "source": [
    "**Solution**\n",
    "<br>(3.1)\n",
    "* state space : {0,1,2,3,.....} where 0=\"new\" and $n>0$=\"level of damage\"\n",
    "* control space : {0,1} where 0=\"continue\" and 1=\"renew\"\n",
    "* transition probability : \n",
    "$$\n",
    "P(x_{t+1}=k|x_t=i,0)=\\left\\{\n",
    "\\begin{aligned}\n",
    "p_{k-i}&&i<k\\\\\n",
    "0&& otherwise\n",
    "\\end{aligned}\n",
    "\\right.\n",
    "$$\n",
    "$$\n",
    "P(x_{t+1}=k|x_t=i,1)=p_k,k=0,1,2,3,...\n",
    "$$\n",
    "where $p_j=\\frac{\\lambda^j}{j!}e^{-\\lambda}$\n",
    "* reward function\n",
    "$$\n",
    "r_t(x,u)=\\left\\{\n",
    "\\begin{aligned}\n",
    "R-c_0-c_1x&&u=0\\\\\n",
    "R-K+\\gamma Ke^{-\\mu x}&&u=1\n",
    "\\end{aligned}\n",
    "\\right.\n",
    "$$\n",
    "* Dynamic programming equation\n",
    "$$\n",
    "\\begin{aligned}\n",
    "v_t(x)&=\\max\\{r(x,0)+E[v_{t+1}(x_{t+1})|x,u=0],r(x,1)+E[v_{t+1}(x_{t+1})|x,u=1]\\}\\\\\n",
    "&=\\max\\{R-c_0-c_1x+\\sum_{k=x}^{\\infty}v_{t+1}(k)p_{k-x}, R-K+\\gamma Ke^{-\\mu x}+\\sum_{k=0}^{\\infty}v_{t+1}(k)p_k\\}\\\\\n",
    "v_T(x)&=\\gamma Ke^{-\\mu x}\n",
    "\\end{aligned}\n",
    "$$"
   ]
  },
  {
   "cell_type": "markdown",
   "metadata": {},
   "source": [
    "(3.2)<br>\n",
    "Denote $f_0(x)=R-c_0-c_1x+\\sum_{k=x}^{\\infty}v_{t+1}(k)p_{k-x}$ and $f_1(x)=R-K+\\gamma Ke^{-\\mu x}+\\sum_{k=0}^{\\infty}v_{t+1}(k)p_k$<br>\n",
    "\n",
    "We have $f_0(0)=4+\\sum_{k=0}^{\\infty}v_{t+1}(k)p_k$ and $f_1(0)=3+\\sum_{k=0}^{\\infty}v_{t+1}p_k$"
   ]
  },
  {
   "cell_type": "code",
   "execution_count": 4,
   "metadata": {
    "scrolled": true
   },
   "outputs": [
    {
     "data": {
      "image/png": "[encoded data removed]",
      "text/plain": [
       "<Figure size 432x288 with 1 Axes>"
      ]
     },
     "metadata": {
      "needs_background": "light"
     },
     "output_type": "display_data"
    }
   ],
   "source": [
    "x = np.arange(7)\n",
    "f0 = x\n",
    "f1 = 8*(1-np.exp(-0.2*x))\n",
    "y1 = np.arange(0,6,6/100)\n",
    "x1 = np.array([5]*100)\n",
    "_ = plt.plot(x,f0,x,f1,x1,y1)\n",
    "_ = plt.title(\"Decreasing speed of f0&f1\")\n",
    "_ = plt.legend(['diff f0','diff f1','x=5'])"
   ]
  },
  {
   "cell_type": "markdown",
   "metadata": {},
   "source": [
    "From the image, we can find that when $x\\ge5$, the decreasing speed of $f_1$ become much smaller than $f_0$. So there must exist a constant $\\bar{x}$ such that $f_0(x)<f_1(x)$ where $x\\ge\\bar{x}$. That means we take control \"replace\" will always be profitable when $x\\ge\\bar{x}$"
   ]
  }
 ],
 "metadata": {
  "kernelspec": {
   "display_name": "Python 3",
   "language": "python",
   "name": "python3"
  },
  "language_info": {
   "codemirror_mode": {
    "name": "ipython",
    "version": 3
   },
   "file_extension": ".py",
   "mimetype": "text/x-python",
   "name": "python",
   "nbconvert_exporter": "python",
   "pygments_lexer": "ipython3",
   "version": "3.7.4"
  }
 },
 "nbformat": 4,
 "nbformat_minor": 2
}
