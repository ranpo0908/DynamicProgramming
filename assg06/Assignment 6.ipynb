{
 "cells": [
  {
   "cell_type": "markdown",
   "metadata": {},
   "source": [
    "### Assignment 6\n",
    "_Jiajie Lu_"
   ]
  },
  {
   "cell_type": "code",
   "execution_count": 1,
   "metadata": {},
   "outputs": [],
   "source": [
    "import numpy as np\n",
    "import pandas as pd"
   ]
  },
  {
   "cell_type": "markdown",
   "metadata": {},
   "source": [
    "#### Problem 1\n",
    ">Prove Lemma 2.4 (ii) of the note on “Infinite-Horizon Average Cost Problem”, that is, show that $HP^∗ = 0$."
   ]
  },
  {
   "cell_type": "markdown",
   "metadata": {},
   "source": [
    "**Solution:**<br>\n",
    "We have $H=(1-P-P^*)^{-1}(1-P^*)$ and Lemma 2.1 (i) $P^*P^*=P^*$.\n",
    "Then we can imply<br><br>\n",
    "$$\n",
    "\\begin{aligned}\n",
    "HP^*&=(1-P-P^*)^{-1}(1-P^*)P^*\\\\\n",
    "&=(1-P-P^*)^{-1}(P^*-P^*P^*)\\\\\n",
    "&=(1-P-P^*)^{-1}(P^*-P^*)\\\\&=0\n",
    "\\end{aligned}\n",
    "$$"
   ]
  },
  {
   "cell_type": "markdown",
   "metadata": {},
   "source": [
    "#### Problem 2\n",
    ">In Lemma 8.1 of the note on“Infinite-Horizon Average Cost Problem”, show that the equation $(I-\\alpha P)^{-1}=I+\\sum_{k=1}^{\\infty}\\alpha^k P^k$ holds."
   ]
  },
  {
   "cell_type": "markdown",
   "metadata": {},
   "source": [
    "**Solution:**<br>\n",
    "$$\n",
    "\\begin{aligned}\n",
    "&(I-\\alpha P)(I+\\sum_{k=1}^{\\infty}\\alpha^k P^k)\\\\\n",
    "=&I-\\alpha P +\\sum_{k=1}^{\\infty}\\alpha^k P^k-\\sum_{k=1}^{\\infty}\\alpha^{k+1} P^{k+1}\\\\\n",
    "=&I+\\sum_{k=1}^{\\infty}\\alpha^k P^k-\\sum_{k=0}^{\\infty}\\alpha^{k+1} P^{k+1}\\\\\n",
    "=&I+\\sum_{k=1}^{\\infty}\\alpha^k P^k-\\sum_{k=1}^{\\infty}\\alpha^k P^k\\\\\n",
    "=&I\n",
    "\\end{aligned}\n",
    "$$\n",
    "<br>\n",
    "Thus we have $(I-\\alpha P)^{-1}=I+\\sum_{k=1}^{\\infty}\\alpha^k P^k$"
   ]
  },
  {
   "cell_type": "markdown",
   "metadata": {},
   "source": [
    "#### Problem 3\n",
    ">Each quarter the marketing manager of a retail store divides the customers into two groups based on their purchase behavior in the previous quarter. The classes are denoted by $L$ and $H$. The manager wishes to determine to which group of customers he should sent a catalog. The cost of sending a catalog is 15 dollar per customer. If a customer from group $L$ receives a catalog, then the expected purchase in the current quarter is 20 dollar, otherwise it is 10 dollar. If a customer from group $H$ receives a catalog, then the expected purchase in the current quarter is 50 dollar, otherwise it is 25 dollar. Furthermore, if a customer from group $L$ receives a catalog, then the probability that he will stay in group $L$ for the next quarter is $0.3$, otherwise, it is $0.5$. If a customer from group $H$ receives a catalog, then he probability that he will stay in group $H$ for the next quarter is $0.8$, otherwise, it is $0.4$.\n"
   ]
  },
  {
   "cell_type": "markdown",
   "metadata": {},
   "source": [
    "**(a)** Formulate an average reward problem to help the manager. "
   ]
  },
  {
   "cell_type": "markdown",
   "metadata": {},
   "source": [
    "**Solution:**<br>\n",
    "* State Space : \n",
    "$$\\mathcal{X}=\\{0:\\text{\"Low\"},1:\\text{\"High\"}\\}.$$\n",
    "* Control Space : \n",
    "$$\n",
    "\\mathcal{U}=\\{0:\\text{\"do not send\"}, 1:\\text{\"sent catalog\"}\\}.\n",
    "$$\n",
    "* Feasible Mapping:\n",
    "$$\n",
    "U(x)=\\{0,1\\}.\n",
    "$$\n",
    "* Transition Probability :\n",
    "$$\n",
    "P_0=\\begin{pmatrix}\n",
    "   & L & H\\\\\n",
    "L & 0.5 & 0.5\\\\\n",
    "H & 0.6 & 0.4\n",
    "\\end{pmatrix},\n",
    "P_1=\\begin{pmatrix}\n",
    "   & L & H\\\\\n",
    "L & 0.3 & 0.7\\\\\n",
    "H & 0.2 & 0.8\n",
    "\\end{pmatrix}.\n",
    "$$\n",
    "* reward function :\n",
    "$$\n",
    "r(x,u)=[10(1-x)+25x](u+1)-15u.\n",
    "$$\n",
    "* Dynamic Programming Equation :\n",
    "$$\n",
    "\\gamma+h(i)=\\max_{u\\in U(i)}\\{r(i,u)+\\sum_{j=0}^{1}P(j|i,u)h(j)\\},\\qquad i\\in\\mathcal{X}.\n",
    "$$"
   ]
  },
  {
   "cell_type": "markdown",
   "metadata": {},
   "source": [
    "**(b)** Determine an optimal policy using policy iteration method. "
   ]
  },
  {
   "cell_type": "markdown",
   "metadata": {},
   "source": [
    "**Solution:**<br>\n",
    "Set the inital policy as\n",
    "$$\n",
    "\\pi^0(0)=0,\\quad \\pi^0(1)=1.\n",
    "$$\n",
    "Then, we can obtain\n",
    "$$\n",
    "\\gamma^0+h^0(0)=r(0,0)+P(0|0,0)h^0(0)+P(1|0,0)h^0(1)\\\\\n",
    "\\gamma^0+h^0(1)=r(1,1)+P(0|1,1)h^0(0)+P(1|1,1)h^0(1)\n",
    "$$\n",
    "and hence\n",
    "$$\n",
    "\\gamma^0+h^0(0)=10+0.5h^0(0)+0.5h^0(1)\\\\\n",
    "\\gamma^0+h^0(1)=35+0.2h^0(0)+0.8h^0(1)\n",
    "$$\n",
    "Let $h^0(0)=0$ and we will have\n",
    "$$\n",
    "\\gamma^0=10+0.5h^0(1),\\qquad \\gamma^0=35-0.2h^0(1)\n",
    "$$\n",
    "from which\n",
    "$$\n",
    "\\gamma^0=\\frac{195}{7},\\quad h^0(0)=0,\\quad h^0(1)=\\frac{250}{7}.\n",
    "$$\n",
    "And we can determine $\\pi^1$ by solving following minimum\n",
    "$$\n",
    "\\begin{array}{ll}\n",
    "&\\max\\{r(0,0)+P(0|0,0)h^0(0)+P(1|0,0)h^0(1), r(0,1)+P(0|0,1)h^0(0)+P(1|0,1)^0h(1)\\}\\\\\n",
    "=&\\max\\{10+0.5\\times\\frac{250}{7}, 5+0.7\\times\\frac{250}{7}\\}\\\\\n",
    "=&\\max\\{\\frac{195}{7}, 30\\}\n",
    "\\end{array},\n",
    "$$\n",
    "and\n",
    "$$\n",
    "\\begin{array}{ll}\n",
    "&\\max\\{r(1,0)+P(0|1,0)^0h(0)+P(1|1,0)h^0(1), r(1,1)+P(0|1,1)h^0(0)+P(1|1,1)h^0(1)\\}\\\\\n",
    "=&\\max\\{25+0.4\\times\\frac{250}{7}, 35+0.8\\times\\frac{250}{7}\\}\\\\\n",
    "=&\\max\\{\\frac{275}{7},\\frac{445}{7}\\}\n",
    "\\end{array}\n",
    "$$\n",
    "which gives us $\\pi^1(0)=1,\\pi^1(1)=1$. Then repeat the procedures with $\\pi^1$ and $h^1(0)=0$\n",
    "$$\n",
    "\\gamma^1+h^1(0)=r(0,1)+P(0|0,1)h^1(0)+P(1|0,1)h^1(1)\\\\\n",
    "\\gamma^1+h^1(1)=r(1,1)+P(0|1,1)h^1(0)+P(1|1,1)h^1(1)\n",
    "$$\n",
    "gives us\n",
    "$$\n",
    "\\gamma^1=\\frac{85}{3},\\quad h^1(0)=0,\\quad h^1(1)=\\frac{100}{3}.\n",
    "$$\n",
    "Hence, we can update the policy due to\n",
    "$$\n",
    "\\begin{array}{ll}\n",
    "&\\max\\{r(0,0)+P(0|0,0)h^0(0)+P(1|0,0)h^0(1), r(0,1)+P(0|0,1)h^0(0)+P(1|0,1)^0h(1)\\}\\\\\n",
    "=&\\max\\{10+0.5\\times\\frac{100}{7}, 5+0.7\\times\\frac{100}{7}\\}\\\\\n",
    "=&\\max\\{\\frac{120}{7}, 15\\},\n",
    "\\end{array}\n",
    "$$\n",
    "and\n",
    "$$\n",
    "\\begin{array}{ll}\n",
    "&\\max\\{r(1,0)+P(0|1,0)^0h(0)+P(1|1,0)h^0(1), r(1,1)+P(0|1,1)h^0(0)+P(1|1,1)h^0(1)\\}\\\\\n",
    "=&\\max\\{25+0.4\\times\\frac{100}{7}, 35+0.8\\times\\frac{100}{7}\\}\\\\\n",
    "=&\\max\\{\\frac{215}{7},\\frac{325}{7}\\}\n",
    "\\end{array}\n",
    "$$\n",
    "from which\n",
    "$$\n",
    "\\pi^2(0)=\\pi^2(1)=1.\n",
    "$$\n",
    "Then the iteration terminates and we got the optimal average cost is $\\frac{85}{7}$ with bias $(0, \\frac{100}{3})$. And the optimal policy is \"send catalog\" to every one without considering their group."
   ]
  },
  {
   "cell_type": "markdown",
   "metadata": {},
   "source": [
    "**(c)** Solve the problem using linear programming."
   ]
  },
  {
   "cell_type": "markdown",
   "metadata": {},
   "source": [
    "**Solution:**<br><br>\n",
    "$$\n",
    "\\begin{array}{ll}\n",
    "\\min &\\gamma\\\\\n",
    "\\mbox{Subject to:} &\\gamma+h(0)\\ge r(0,u)+\\sum_{j=0}^{1}P(j|0,u)h(j), &u=0,1,\\\\\n",
    "&\\gamma+h(1)\\ge r(1,u)+\\sum_{j=0}^{1}P(j|1,u)h(j), &u=0,1.\n",
    "\\end{array}\n",
    "$$"
   ]
  },
  {
   "cell_type": "code",
   "execution_count": 2,
   "metadata": {},
   "outputs": [
    {
     "name": "stdout",
     "output_type": "stream",
     "text": [
      "The optimal average cost is 28.3333\n"
     ]
    }
   ],
   "source": [
    "from scipy.optimize import linprog\n",
    "\n",
    "# linear programming for this problem\n",
    "def linear_programming(T, K):\n",
    "    # T - size of state space\n",
    "    # K - size of control space\n",
    "    # min c^Tx\n",
    "    # s.t. Av<=b\n",
    "    # parameter array c\n",
    "    c = np.array([0 for _ in range(T)] + [1])\n",
    "    # coef matrix\n",
    "    A = -np.ones((T*K, T+1))\n",
    "    A[0, 0], A[0, 1] = -0.5, 0.5\n",
    "    A[1, 0], A[1, 1] = -0.7, 0.7\n",
    "    A[2, 0], A[2, 1] = 0.6, -0.6\n",
    "    A[3, 0], A[3, 1] = 0.2, -0.2\n",
    "    # bias\n",
    "    b = -np.array([(10*(1-x)+25*x)*(u+1)-15*u \n",
    "                   for x in range(T) for u in range(K)])\n",
    "    # solve the problem\n",
    "    v = linprog(c, A, b)\n",
    "    \n",
    "    return v['x'][-1]\n",
    "\n",
    "oac = linear_programming(2, 2)\n",
    "print(f\"The optimal average cost is {oac:.4f}\")"
   ]
  }
 ],
 "metadata": {
  "kernelspec": {
   "display_name": "Python 3",
   "language": "python",
   "name": "python3"
  },
  "language_info": {
   "codemirror_mode": {
    "name": "ipython",
    "version": 3
   },
   "file_extension": ".py",
   "mimetype": "text/x-python",
   "name": "python",
   "nbconvert_exporter": "python",
   "pygments_lexer": "ipython3",
   "version": "3.7.4"
  }
 },
 "nbformat": 4,
 "nbformat_minor": 2
}
