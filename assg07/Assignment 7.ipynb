{
 "cells": [
  {
   "cell_type": "markdown",
   "metadata": {},
   "source": [
    "### Assignment 7\n",
    "_Jiajie Lu_"
   ]
  },
  {
   "cell_type": "code",
   "execution_count": 1,
   "metadata": {},
   "outputs": [],
   "source": [
    "import numpy as np\n",
    "import pandas as pd"
   ]
  },
  {
   "cell_type": "markdown",
   "metadata": {},
   "source": [
    "#### Problem 1\n",
    ">A machine may be in two states:  good or bad.  It produces an item at the end of each time period.  If the machine is bad, the item is bad/defective as well.  If the machine is good, then the  item  is  good.   A  machine,  which  is  good  at  stage $t$ may  become  bad  at  stage $t+ 1$  with probability $p$.  A bad machine remains bad,  unless replaced.  The state of the machine is not visible and can be identified only by inspecting the produced items.  An item produced in period $t$ may be inspected immediately at cost $I$.  The inspection is perfect,  that is,  it distinguishes between good and defective items without mistakes.  If the inspection finds the item bad, the machine may be replaced at a cost $R$.  The cost of producing a bad item is $C$."
   ]
  },
  {
   "cell_type": "markdown",
   "metadata": {},
   "source": [
    "**(a)** Formulate a finite horizon dynamic programming problem to minimize the cost of operating the machine."
   ]
  },
  {
   "cell_type": "markdown",
   "metadata": {},
   "source": [
    "**Solution:**<br>\n",
    "* State Space: <br>\n",
    "state of machine, unobservable space\n",
    "$$\n",
    "\\mathcal{X}=\\{0:\\text{\"Good\"}, 1:\\text{\"Bad\"}\\},\n",
    "$$\n",
    "probability that the machine is good is $\\alpha$, belief state\n",
    "$$\n",
    "\\xi=\\{\\alpha, 1-\\alpha\\}.\n",
    "$$\n",
    "* Control Space:\n",
    "$$\n",
    "\\mathcal{U}=\\{0:\\text{\"do nothing\"}, 1:\\text{\"inspect and replace the broken\"}\\}.\n",
    "$$\n",
    "* Feasible Mapping:\n",
    "$$\n",
    "U(x)=\\{0,1\\}.\n",
    "$$\n",
    "* Transition Probability:\n",
    "$$\n",
    "\\alpha_{t+1}=\\left\\{\n",
    "\\begin{array}{ll}\n",
    "(1-p)\\alpha_t, &u=0,\\\\\n",
    "1-p, &u=1.\n",
    "\\end{array}\n",
    "\\right.\n",
    "$$\n",
    "It is plain that if we do nothing, then the machine will be good at next stage with probability $(1-p)\\alpha_t$ where $\\alpha_t$ is the probability that the machine is good at present stage. And if we do inspection and replace the bad machine, then it will go bad at next stage with probability $p$. Equivalently, it will keep good in probaility of $1-p$.\n",
    "* Cost Function:\n",
    "$$\n",
    "c(\\alpha_t, u_t)=(1-\\alpha_t)C+u[I+(1-\\alpha_t)R].\n",
    "$$\n",
    "First term $(1-\\alpha_t)C$ represents the expected cost for producing bad products. And the second term is the expected cost if we do inspection. And the machine is bad with probability $1-\\alpha_t$ that means our expected cost for replacement is $(1-\\alpha_t)R$.\n",
    "* Dynamic Programming Equation:\n",
    "$$\n",
    "\\begin{eqnarray}\n",
    "v_t(\\alpha_t)&=&\\min_{u\\in\\mathcal{U}}\\{c(\\alpha_t,u)+v_{t+1}(\\alpha_{t+1})\\},\\\\\n",
    "&=&\\min\\{(1-\\alpha_t)C+v_{t+1}[(1-p)\\alpha_t], I+(1-\\alpha_t)(R+C)+v_{t+1}(1-p)\\}, \\quad t=1,\\ldots,N, \\alpha\\in[0,1].\\\\\n",
    "v_{N+1}(\\alpha)&=&0.\n",
    "\\end{eqnarray}\n",
    "$$"
   ]
  },
  {
   "cell_type": "markdown",
   "metadata": {},
   "source": [
    "**(b)** The initial state of the machine is good.  Solve the problem for $p= 0.2$,$I= 1$,$R= 3$,$C= 2$, and $N= 18$."
   ]
  },
  {
   "cell_type": "markdown",
   "metadata": {},
   "source": [
    "**Solution:**<br>\n",
    "It's easy to notice from the transition probability that the belief probability $\\alpha_t=(1-p)^k$, $k=1,2,\\ldots,N-1$. Then we can rewrite our dynamic programming equation as\n",
    "$$\n",
    "\\begin{eqnarray}\n",
    "v_t(k)&=&\\min\\{[1-(1-p)^k]C+v_{t+1}(k+1), I+[1-(1-p)^k](R+C)+v_{t+1}(1)\\}\\\\\n",
    "&=&\\min\\{2(1-0.8^k)+v_{t+1}(k+1), 1+5(1-0.8^k)+v_{t+1}(1)\\}, \\quad k=1,2,\\ldots,t-1,\\quad t=1,\\ldots,18,\\\\\n",
    "v_{19}(k)&=&0,\\quad k=1,\\ldots,17.\n",
    "\\end{eqnarray}\n",
    "$$"
   ]
  },
  {
   "cell_type": "code",
   "execution_count": 2,
   "metadata": {
    "scrolled": false
   },
   "outputs": [],
   "source": [
    "# set parameter\n",
    "p = 0.2\n",
    "I, R, C = 1, 3, 2\n",
    "N = 18\n",
    "\n",
    "# init the policy table\n",
    "# row: N, col: k\n",
    "v_mat = np.zeros((N, N-1))\n",
    "p_mat = np.zeros((N, N-1))\n",
    "\n",
    "# update v_N\n",
    "for k in range(N-1):\n",
    "    vs = [(1-(1-p)**(k+1))*C, I+(1-(1-p)**(k+1))*(R+C)]\n",
    "    v_mat[N-1, k], p_mat[N-1, k] = np.min(vs), np.argmin(vs)\n",
    "    \n",
    "# update v_2 - v_{N-1}\n",
    "for t in range(N-2, 0, -1):\n",
    "    # belief state\n",
    "    for k in range(t):\n",
    "        vs = [(1-(1-p)**(k+1))*C+v_mat[t+1,k+1], I+(1-(1-p)**(k+1))*(R+C)+v_mat[t+1,0]]\n",
    "        v_mat[t, k], p_mat[t, k] = np.min(vs), np.argmin(vs)\n",
    "        \n",
    "# update v_1\n",
    "vs = [v_mat[1, 1], v_mat[1,0]]\n",
    "v_mat[0,0], p_mat[0,0] = v_mat[1, 0], 0"
   ]
  },
  {
   "cell_type": "markdown",
   "metadata": {},
   "source": [
    "Then we show that the optimal policy is just"
   ]
  },
  {
   "cell_type": "code",
   "execution_count": 3,
   "metadata": {},
   "outputs": [
    {
     "name": "stdout",
     "output_type": "stream",
     "text": [
      "Time Period 00: [0.]\n",
      "Time Period 01: [0.]\n",
      "Time Period 02: [0. 0.]\n",
      "Time Period 03: [0. 0. 0.]\n",
      "Time Period 04: [0. 0. 0. 1.]\n",
      "Time Period 05: [0. 0. 0. 1. 1.]\n",
      "Time Period 06: [0. 0. 0. 1. 1. 1.]\n",
      "Time Period 07: [0. 0. 0. 1. 1. 1. 1.]\n",
      "Time Period 08: [0. 0. 1. 1. 1. 1. 1. 1.]\n",
      "Time Period 09: [0. 0. 0. 1. 1. 1. 1. 1. 1.]\n",
      "Time Period 10: [0. 0. 0. 1. 1. 1. 1. 1. 1. 1.]\n",
      "Time Period 11: [0. 0. 1. 1. 1. 1. 1. 1. 1. 1. 1.]\n",
      "Time Period 12: [0. 0. 1. 1. 1. 1. 1. 1. 1. 1. 1. 1.]\n",
      "Time Period 13: [0. 0. 0. 1. 1. 1. 1. 1. 1. 1. 1. 1. 1.]\n",
      "Time Period 14: [0. 0. 0. 0. 0. 0. 0. 0. 0. 0. 0. 0. 0. 0.]\n",
      "Time Period 15: [0. 0. 0. 0. 0. 0. 0. 0. 0. 0. 0. 0. 0. 0. 0.]\n",
      "Time Period 16: [0. 0. 0. 0. 0. 0. 0. 0. 0. 0. 0. 0. 0. 0. 0. 0.]\n",
      "Time Period 17: [0. 0. 0. 0. 0. 0. 0. 0. 0. 0. 0. 0. 0. 0. 0. 0. 0.]\n"
     ]
    }
   ],
   "source": [
    "print(f\"Time Period 00: {p_mat[0,0:1]}\")\n",
    "for idx in range(1, N):\n",
    "    print(f\"Time Period {str(idx).zfill(2)}: {p_mat[idx, 0:idx]}\")"
   ]
  }
 ],
 "metadata": {
  "kernelspec": {
   "display_name": "Python 3",
   "language": "python",
   "name": "python3"
  },
  "language_info": {
   "codemirror_mode": {
    "name": "ipython",
    "version": 3
   },
   "file_extension": ".py",
   "mimetype": "text/x-python",
   "name": "python",
   "nbconvert_exporter": "python",
   "pygments_lexer": "ipython3",
   "version": "3.7.4"
  }
 },
 "nbformat": 4,
 "nbformat_minor": 2
}
